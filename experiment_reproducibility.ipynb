{
  "nbformat": 4,
  "nbformat_minor": 0,
  "metadata": {
    "colab": {
      "name": "cfg_commands.ipynb",
      "provenance": [],
      "collapsed_sections": []
    },
    "kernelspec": {
      "name": "python3",
      "display_name": "Python 3"
    },
    "language_info": {
      "name": "python"
    }
  },
  "cells": [
    {
      "cell_type": "code",
      "execution_count": null,
      "metadata": {
        "id": "bfS_-wBcQtwM"
      },
      "outputs": [],
      "source": [
        ""
      ]
    },
    {
      "cell_type": "markdown",
      "source": [
        "# Environment Setup"
      ],
      "metadata": {
        "id": "uG25gnHAoGLU"
      }
    },
    {
      "cell_type": "markdown",
      "source": [
        "#MNIST dataset"
      ],
      "metadata": {
        "id": "4vcE1Lw9RDdb"
      }
    },
    {
      "cell_type": "code",
      "source": [
        "Ablation study code running "
      ],
      "metadata": {
        "id": "LyNFoA47Q8uw"
      },
      "execution_count": null,
      "outputs": []
    },
    {
      "cell_type": "code",
      "source": [
        "srun python mnists/train_classifier.py --dataset double_colored_MNIST_counterfactual --ablation True"
      ],
      "metadata": {
        "id": "BboQckjrQ8xY"
      },
      "execution_count": null,
      "outputs": []
    },
    {
      "cell_type": "markdown",
      "source": [
        "To run with SSIM loss (Use SSIM Flag to activate it and mention the corresponding the dataset name and other fields.)\n",
        "\n",
        "```\n",
        "usage: python mnists/train_cgn.py --cfg Dataset_cfg_file ---ssim_flag true\n",
        "```\n",
        "\n",
        "\n"
      ],
      "metadata": {
        "id": "pVPiUOisD46h"
      }
    },
    {
      "cell_type": "code",
      "source": [
        "!python mnists/train_cgn.py --cfg mnists/experiments/cgn_wildlife_MNIST/cfg.yaml ---ssim_flag true"
      ],
      "metadata": {
        "id": "CXgxY_LOEmtJ"
      },
      "execution_count": null,
      "outputs": []
    },
    {
      "cell_type": "code",
      "source": [
        "!python mnists/generate_data.py \\\n",
        "--dataset wildlife_MNIST --no_cfs 10 --dataset_size 100000"
      ],
      "metadata": {
        "id": "AKic3ec8Em1I"
      },
      "execution_count": null,
      "outputs": []
    },
    {
      "cell_type": "code",
      "source": [
        "!python mnists/train_classifier.py --dataset wildlife_MNIST_counterfactual\n"
      ],
      "metadata": {
        "id": "6CtTPJ4UFWPk"
      },
      "execution_count": null,
      "outputs": []
    },
    {
      "cell_type": "code",
      "source": [
        ""
      ],
      "metadata": {
        "id": "vnPLeoIDFWS7"
      },
      "execution_count": null,
      "outputs": []
    },
    {
      "cell_type": "markdown",
      "source": [
        "To run with color jitter augmentation. Seperate files with the extension/suffix augment hve been created which perform the same task as the original files but the only difference is these files perform 'Color Jitter' augmentation. \n",
        "\n",
        "```\n",
        "usage: python mnists/train_cgn.py --cfg Dataset_cfg_file ---ssim_flag true\n",
        "```\n",
        "\n",
        "\n"
      ],
      "metadata": {
        "id": "ezf-J16zFjGt"
      }
    },
    {
      "cell_type": "code",
      "source": [
        "!python mnists/train_cgn_augment.py --cfg mnists/experiments/cgn_wildlife_MNIST/cfg.yaml"
      ],
      "metadata": {
        "id": "NoAAK6qqFnVS"
      },
      "execution_count": null,
      "outputs": []
    },
    {
      "cell_type": "code",
      "source": [
        "!python mnists/generate_data_augment.py \\\n",
        "--dataset wildlife_MNIST --no_cfs 10 --dataset_size 100000"
      ],
      "metadata": {
        "id": "gtqWU1SMFnX6"
      },
      "execution_count": null,
      "outputs": []
    },
    {
      "cell_type": "code",
      "source": [
        "!python mnists/train_classifier_augment.py --dataset wildlife_MNIST_counterfactual"
      ],
      "metadata": {
        "id": "MGWvG7APFnxd"
      },
      "execution_count": null,
      "outputs": []
    },
    {
      "cell_type": "markdown",
      "source": [
        "# Imagenet dataset"
      ],
      "metadata": {
        "id": "RE_U7LxARHOR"
      }
    },
    {
      "cell_type": "markdown",
      "source": [
        "## Test Inception score"
      ],
      "metadata": {
        "id": "qTXLizPmoiS3"
      }
    },
    {
      "cell_type": "code",
      "source": [
        "!python imagenet/generate_data.py --n_data 32 --weights_path imagenet/weights/cgn.pth --mode random --run_name val --truncation 0.5 --batch_sz 1"
      ],
      "metadata": {
        "id": "b7BPJKJXQ8zq"
      },
      "execution_count": null,
      "outputs": []
    },
    {
      "cell_type": "markdown",
      "source": [
        "## Training the CGN"
      ],
      "metadata": {
        "id": "Dya4LtYTqd4U"
      }
    },
    {
      "cell_type": "markdown",
      "source": [
        "NOTE: Training the CGN for Imagenet utilises biggan-256 and U2-net weights. It runs for 1.2m iterations(approx 0.5/s). Prefer to skip this part if adequate resource not available."
      ],
      "metadata": {
        "id": "qQvgenAFqjJD"
      }
    },
    {
      "cell_type": "code",
      "source": [
        "!python imagenet/train_cgn.py --model_name MODEL_NAME"
      ],
      "metadata": {
        "id": "SHbFwwT0RZXL"
      },
      "execution_count": null,
      "outputs": []
    },
    {
      "cell_type": "markdown",
      "source": [
        "## Generate Counterfactual Images"
      ],
      "metadata": {
        "id": "Z0gCGTCFrhft"
      }
    },
    {
      "cell_type": "markdown",
      "source": [
        "2 Folders of counterfactual images are needed(Train, Val). Train has 35,000 counterfactuals, Val has 5000 counterfactual images. We split it to provided 1:1 ratio that is recommended in the paper(Imagenet-1k is replaced with Imagenet-1k(mini))"
      ],
      "metadata": {
        "id": "-BnAKiTQrkGI"
      }
    },
    {
      "cell_type": "code",
      "source": [
        "!python imagenet/generate_data.py --n_data 35000 --weights_path imagenet/weights/cgn.pth --mode random --run_name train --truncation 0.5 --batch_sz 1"
      ],
      "metadata": {
        "id": "U6QInGVyrg6X"
      },
      "execution_count": null,
      "outputs": []
    },
    {
      "cell_type": "code",
      "source": [
        "!python imagenet/generate_data.py --n_data 5000 --weights_path imagenet/weights/cgn.pth --mode random --run_name val --truncation 0.5 --batch_sz 1"
      ],
      "metadata": {
        "id": "-wk70pN-sJtU"
      },
      "execution_count": null,
      "outputs": []
    },
    {
      "cell_type": "markdown",
      "source": [
        "Move the val, train into a cf_data folder"
      ],
      "metadata": {
        "id": "nHGwAz20sYfF"
      }
    },
    {
      "cell_type": "code",
      "source": [
        "%cp -r /content/counterfactual_generative_networks/imagenet/data/train /content/counterfactual_generative_networks/imagenet/data/cf_data "
      ],
      "metadata": {
        "id": "7V_Abp0jstwt"
      },
      "execution_count": null,
      "outputs": []
    },
    {
      "cell_type": "code",
      "source": [
        "%cp -r /content/counterfactual_generative_networks/imagenet/data/val /content/counterfactual_generative_networks/imagenet/data/cf_data "
      ],
      "metadata": {
        "id": "qRd1L7dssXzx"
      },
      "execution_count": null,
      "outputs": []
    },
    {
      "cell_type": "markdown",
      "source": [
        "## Training the classifier"
      ],
      "metadata": {
        "id": "FAKaiLx3rXZX"
      }
    },
    {
      "cell_type": "markdown",
      "source": [
        "We replaced Imagenet-1k with Imagenet-1k(mini). "
      ],
      "metadata": {
        "id": "_6dOBBVHrain"
      }
    },
    {
      "cell_type": "code",
      "source": [
        "python imagenet/train_classifier.py -a resnet50 -b 32 --lr 0.001 -j 6 \\\n",
        "--epochs 45 --pretrained --cf_data imagenet/cf_data --name RUN_NAME"
      ],
      "metadata": {
        "id": "SvPVQxeiRZeF"
      },
      "execution_count": null,
      "outputs": []
    },
    {
      "cell_type": "markdown",
      "source": [
        "## Plotting Explainability heatmaps"
      ],
      "metadata": {
        "id": "5biA2SqaqaPK"
      }
    },
    {
      "cell_type": "markdown",
      "source": [
        "Replace the --image_loc path with the image of your choice."
      ],
      "metadata": {
        "id": "lJnp5ylqtZYp"
      }
    },
    {
      "cell_type": "code",
      "source": [
        "!python lime_plot.py --image_loc '/content/counterfactual_generative_networks/imagenet/data/mini-imagenet/train/fg_n02002556_34176_bg_n03272562_13865.JPEG'"
      ],
      "metadata": {
        "colab": {
          "base_uri": "https://localhost:8080/",
          "height": 138
        },
        "id": "fBGZA0F2Vx2A",
        "outputId": "78e3b03b-e355-4bac-df60-e74d675d0b70"
      },
      "execution_count": null,
      "outputs": [
        {
          "output_type": "display_data",
          "data": {
            "text/html": [
              "\n",
              "  <style>\n",
              "    pre {\n",
              "        white-space: pre-wrap;\n",
              "    }\n",
              "  </style>\n",
              "  "
            ],
            "text/plain": [
              "<IPython.core.display.HTML object>"
            ]
          },
          "metadata": {}
        },
        {
          "output_type": "stream",
          "name": "stdout",
          "text": [
            "Not inside model loc\n",
            "Downloading: \"https://download.pytorch.org/models/inception_v3_google-0cc3c7bd.pth\" to /root/.cache/torch/hub/checkpoints/inception_v3_google-0cc3c7bd.pth\n",
            "100% 104M/104M [00:02<00:00, 48.3MB/s] \n",
            "((0.9967842, 127, 'white_stork'), (0.0031877463, 128, 'black_stork'), (5.541379e-06, 134, 'crane'), (1.5789104e-06, 144, 'pelican'), (8.871526e-07, 23, 'vulture'))\n",
            "100% 1000/1000 [00:13<00:00, 73.33it/s]\n"
          ]
        }
      ]
    }
  ]
}